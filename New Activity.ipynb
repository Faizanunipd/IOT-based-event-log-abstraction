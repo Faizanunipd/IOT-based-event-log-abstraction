{
 "cells": [
  {
   "cell_type": "code",
   "execution_count": null,
   "id": "74f357fd-8283-408a-bbb4-b0ac7bf28df3",
   "metadata": {},
   "outputs": [],
   "source": [
    "import functions as f\n",
    "import abstract_functions as abs_func\n",
    "\n",
    "import pandas as pd\n",
    "from tabulate import tabulate\n",
    "import warnings\n",
    "warnings.filterwarnings('ignore')"
   ]
  },
  {
   "cell_type": "code",
   "execution_count": null,
   "id": "e34e3ed6-405e-4008-90c3-00557cc552f6",
   "metadata": {},
   "outputs": [],
   "source": [
    "file_path = \"MainProcess.xes\"\n",
    "event_log = f.read_log(file_path)\n",
    "\n",
    "key_value = 0\n",
    "result_dic = {\n",
    "    'Metrics':['Model', 'Clustering', 'Encoding', 'Fitness','Precision','Generalization','Simplicity', 'F_Score'],\n",
    "}\n",
    "\n",
    "params = {\n",
    "    'session_duration': f.estimate_thresold(event_log),  # any positive value\n",
    "    'encoding': 'freq',   # freq, dur\n",
    "    'clustering': 'DBSCAN',   # DBSCAN, KMEANS\n",
    "    'eps': 0.5,    # any positive value, Recommended: 0-1\n",
    "    'minSample': 12,   # any positive value\n",
    "    'k': 20,  # any positive value\n",
    "    'export_net': False,    # True, False\n",
    "}"
   ]
  },
  {
   "cell_type": "code",
   "execution_count": null,
   "id": "62bed6b1-aff4-4ed0-9418-f5d38553016e",
   "metadata": {},
   "outputs": [],
   "source": [
    "event_log = event_log[['case:concept:name', 'time:timestamp', 'lifecycle:transition', 'concept:name']]\n",
    "result_dic[key_value+1] =  abs_func.flat_model(event_log)"
   ]
  },
  {
   "cell_type": "code",
   "execution_count": null,
   "id": "9e3bc101-0bd5-4fa9-b468-fd697b4ccf83",
   "metadata": {},
   "outputs": [],
   "source": [
    "session_log, encoded_log, cluster_map = abs_func.clustering(event_log, params)\n",
    "key_value+=1\n",
    "result_dic[key_value+1] = abs_func.abstract_model(session_log, encoded_log, cluster_map, params)\n",
    "key_value+=1\n",
    "result_dic[key_value+1] = abs_func.merge_model(session_log, encoded_log, cluster_map, params)"
   ]
  },
  {
   "cell_type": "code",
   "execution_count": null,
   "id": "d41aca5f-c905-47a1-959e-b088daaa63b6",
   "metadata": {},
   "outputs": [],
   "source": [
    "cluster_map"
   ]
  },
  {
   "cell_type": "code",
   "execution_count": null,
   "id": "91807922-368e-4dd4-aaaf-48e7fec93cd8",
   "metadata": {},
   "outputs": [],
   "source": [
    "params['encoding'] = 'dur'\n",
    "session_log, encoded_log, cluster_map = abs_func.clustering(event_log, params)\n",
    "key_value+=1\n",
    "result_dic[key_value+1] = abs_func.abstract_model(session_log, encoded_log, cluster_map, params)\n",
    "key_value+=1\n",
    "result_dic[key_value+1] = abs_func.merge_model(session_log, encoded_log, cluster_map, params)"
   ]
  },
  {
   "cell_type": "code",
   "execution_count": null,
   "id": "f639cbd4-4483-4410-bd14-db7b9217f2d4",
   "metadata": {},
   "outputs": [],
   "source": [
    "params['clustering'] = 'KMEANS'\n",
    "session_log, encoded_log, cluster_map = abs_func.clustering(event_log, params)\n",
    "key_value+=1\n",
    "result_dic[key_value+1] = abs_func.abstract_model(session_log, encoded_log, cluster_map, params)\n",
    "key_value+=1\n",
    "result_dic[key_value+1] = abs_func.merge_model(session_log, encoded_log, cluster_map, params)"
   ]
  },
  {
   "cell_type": "code",
   "execution_count": null,
   "id": "d7e2903b-e566-4673-b3d0-980488286150",
   "metadata": {},
   "outputs": [],
   "source": [
    "params['encoding'] = 'freq'\n",
    "session_log, encoded_log, cluster_map = abs_func.clustering(event_log, params)\n",
    "key_value+=1\n",
    "result_dic[key_value+1] = abs_func.abstract_model(session_log, encoded_log, cluster_map, params)\n",
    "key_value+=1\n",
    "result_dic[key_value+1] = abs_func.merge_model(session_log, encoded_log, cluster_map, params)"
   ]
  },
  {
   "cell_type": "code",
   "execution_count": null,
   "id": "adc15c81-699a-42fa-bbfc-26f796d78fb1",
   "metadata": {},
   "outputs": [],
   "source": [
    "result_df = pd.DataFrame(result_dic)\n",
    "result_df = result_df.set_index('Metrics')\n",
    "# displaying the DataFrame\n",
    "print(tabulate(result_df.T, headers = 'keys', tablefmt = 'psql'))"
   ]
  },
  {
   "cell_type": "code",
   "execution_count": null,
   "id": "d2546e9d-8495-420c-8e5e-b72da0890f39",
   "metadata": {},
   "outputs": [],
   "source": [
    "cluster_map"
   ]
  },
  {
   "cell_type": "code",
   "execution_count": null,
   "id": "7a956320-fdf0-4d8a-8aa6-ae3622187ed8",
   "metadata": {},
   "outputs": [],
   "source": []
  }
 ],
 "metadata": {
  "kernelspec": {
   "display_name": "Python 3 (ipykernel)",
   "language": "python",
   "name": "python3"
  },
  "language_info": {
   "codemirror_mode": {
    "name": "ipython",
    "version": 3
   },
   "file_extension": ".py",
   "mimetype": "text/x-python",
   "name": "python",
   "nbconvert_exporter": "python",
   "pygments_lexer": "ipython3",
   "version": "3.11.0"
  }
 },
 "nbformat": 4,
 "nbformat_minor": 5
}
